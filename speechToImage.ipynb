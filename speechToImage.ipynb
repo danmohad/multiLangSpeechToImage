{
 "cells": [
  {
   "cell_type": "markdown",
   "id": "567213fb",
   "metadata": {},
   "source": [
    "### Get audio from microphone"
   ]
  },
  {
   "cell_type": "code",
   "execution_count": null,
   "id": "cf8d3682",
   "metadata": {},
   "outputs": [],
   "source": [
    "from ipywebrtc import AudioRecorder, CameraStream\n",
    "from IPython.display import Audio"
   ]
  },
  {
   "cell_type": "code",
   "execution_count": null,
   "id": "39397c86-5a17-4d94-b82a-83176cfb36a9",
   "metadata": {},
   "outputs": [],
   "source": [
    "camera = CameraStream(constraints={'audio': True,'video':False})\n",
    "recorder = AudioRecorder(stream=camera)\n",
    "recorder"
   ]
  },
  {
   "cell_type": "markdown",
   "id": "609ede35",
   "metadata": {},
   "source": [
    "### Setup model"
   ]
  },
  {
   "cell_type": "code",
   "execution_count": null,
   "id": "20912834",
   "metadata": {},
   "outputs": [],
   "source": [
    "import whisper"
   ]
  },
  {
   "cell_type": "code",
   "execution_count": null,
   "id": "7b55a2af",
   "metadata": {},
   "outputs": [],
   "source": [
    "model = whisper.load_model(\"large\")"
   ]
  },
  {
   "cell_type": "markdown",
   "id": "99127bfd",
   "metadata": {},
   "source": [
    "### Detect, transcribe and translate audio"
   ]
  },
  {
   "cell_type": "code",
   "execution_count": null,
   "id": "f23fe300-f9af-4109-aec6-46da8e497168",
   "metadata": {},
   "outputs": [],
   "source": [
    "# load audio and pad/trim it to fit 30 seconds\n",
    "audio = whisper.load_audio(rec_file_name)\n",
    "audio = whisper.pad_or_trim(audio)\n",
    "\n",
    "# make log-Mel spectrogram and move to the same device as the model\n",
    "mel = whisper.log_mel_spectrogram(audio).to(model.device)\n",
    "\n",
    "# detect the spoken language\n",
    "_, probs = model.detect_language(mel)\n",
    "print(f\"Detected language: {max(probs, key=probs.get)}\")\n",
    "\n",
    "# transcribe the spoken audio (corrective feedback for user who does not speak English)\n",
    "options = whisper.DecodingOptions(fp16 = False, task=\"transcribe\")\n",
    "result = whisper.decode(model, mel, options)\n",
    "\n",
    "# print the recognized text\n",
    "print(result.text)\n",
    "\n",
    "# translate the spoken audio (for use with DALL-E-2)\n",
    "options = whisper.DecodingOptions(fp16 = False, task=\"translate\")\n",
    "result = whisper.decode(model, mel, options)\n",
    "\n",
    "# print the translated text\n",
    "print(result.text)"
   ]
  },
  {
   "cell_type": "markdown",
   "id": "0a27a598",
   "metadata": {},
   "source": [
    "### Generate images using DeepAI's `stable-diffusion`"
   ]
  },
  {
   "cell_type": "code",
   "execution_count": null,
   "id": "572dfe41",
   "metadata": {},
   "outputs": [],
   "source": [
    "import urllib\n",
    "from PIL import Image\n",
    "import requests\n",
    "\n",
    "r = requests.post(\n",
    "    \"https://api.deepai.org/api/stable-diffusion\",\n",
    "    data={\n",
    "        'text': result.text,\n",
    "    },\n",
    "    headers={'api-key': 'quickstart-QUdJIGlzIGNvbWluZy4uLi4K'}\n",
    ")\n",
    "im = Image.open(urllib.request.urlopen(r.json()['output_url']))\n",
    "display(im)"
   ]
  },
  {
   "cell_type": "markdown",
   "id": "c530956c",
   "metadata": {},
   "source": [
    "### Choose an image to save"
   ]
  },
  {
   "cell_type": "code",
   "execution_count": null,
   "id": "d49beea8",
   "metadata": {},
   "outputs": [],
   "source": [
    "choice = 3\n",
    "\n",
    "w, h = im.size\n",
    "if choice == 0:\n",
    "    im1 = im.crop((0, 0, int(w/2), int(h/2)))\n",
    "elif choice == 1:\n",
    "    im1 = im.crop((int(w/2), 0, int(w), int(h/2)))\n",
    "elif choice == 2:\n",
    "    im1 = im.crop((0, int(h/2), int(w/2), int(h)))\n",
    "elif choice == 3:\n",
    "    im1 = im.crop((int(w/2), int(h/2), int(w), int(h)))\n",
    "\n",
    "display(im1)\n",
    "    \n",
    "im1.save(result.text.replace(\" \", \"_\") + \".png\")"
   ]
  },
  {
   "cell_type": "code",
   "execution_count": null,
   "id": "2998e00d",
   "metadata": {},
   "outputs": [],
   "source": []
  }
 ],
 "metadata": {
  "kernelspec": {
   "display_name": "Python 3 (ipykernel)",
   "language": "python",
   "name": "python3"
  },
  "language_info": {
   "codemirror_mode": {
    "name": "ipython",
    "version": 3
   },
   "file_extension": ".py",
   "mimetype": "text/x-python",
   "name": "python",
   "nbconvert_exporter": "python",
   "pygments_lexer": "ipython3",
   "version": "3.9.9"
  }
 },
 "nbformat": 4,
 "nbformat_minor": 5
}
